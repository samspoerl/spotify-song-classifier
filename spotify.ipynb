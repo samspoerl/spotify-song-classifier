{
 "metadata": {
  "language_info": {
   "codemirror_mode": {
    "name": "ipython",
    "version": 3
   },
   "file_extension": ".py",
   "mimetype": "text/x-python",
   "name": "python",
   "nbconvert_exporter": "python",
   "pygments_lexer": "ipython3",
   "version": "3.7.4-final"
  },
  "orig_nbformat": 2,
  "kernelspec": {
   "name": "python3",
   "display_name": "Python 3",
   "language": "python"
  }
 },
 "nbformat": 4,
 "nbformat_minor": 2,
 "cells": [
  {
   "source": [
    "# Spotify Song Classifier\n",
    "*Predict genre using audio features.*\n",
    "\n",
    "Author: Sam Spoerl<br>\n",
    "Created: January 2021"
   ],
   "cell_type": "markdown",
   "metadata": {}
  },
  {
   "cell_type": "code",
   "execution_count": null,
   "metadata": {},
   "outputs": [],
   "source": [
    "# Spotify API authorization\n",
    "import spotipy\n",
    "from spotipy.oauth2 import SpotifyClientCredentials\n",
    "\n",
    "# Custom functions \n",
    "from utils import songs_and_features\n",
    "\n",
    "# Plotting and manipulation\n",
    "import pandas as pd\n",
    "import numpy as np\n",
    "import matplotlib.pyplot as plt\n",
    "from mpl_toolkits import mplot3d\n",
    "\n",
    "# Scikit-learn\n",
    "import sklearn.feature_selection as sk\n",
    "from sklearn.cluster import KMeans\n",
    "from sklearn.pipeline import make_pipeline\n",
    "from sklearn.preprocessing import StandardScaler, MinMaxScaler, Normalizer, LabelEncoder\n",
    "from sklearn.metrics import adjusted_rand_score"
   ]
  },
  {
   "source": [
    "## Data Collection"
   ],
   "cell_type": "markdown",
   "metadata": {}
  },
  {
   "cell_type": "code",
   "execution_count": null,
   "metadata": {},
   "outputs": [],
   "source": [
    "# Setup Spotify authorization object\n",
    "client_id = 'YOUR_CLIENT_ID'\n",
    "client_secret = 'YOUR_CLIENT_SECRET'\n",
    "auth = spotipy.Spotify(auth_manager=SpotifyClientCredentials(client_id=client_id, client_secret=client_secret))"
   ]
  },
  {
   "cell_type": "code",
   "execution_count": null,
   "metadata": {},
   "outputs": [],
   "source": [
    "# Playlist IDs to pass to helper function\n",
    "playlist_ids = [\n",
    "    '37i9dQZF1DWWEJlAGA9gs0?si=stIkax0xSM6UgPdGZs8SpA', # Classical\n",
    "    '37i9dQZF1DXbYM3nMM0oPk?si=P2xOL4mERjGyNdgPHAs8kQ', # Pop\n",
    "    '37i9dQZF1DXcF6B6QPhFDv?si=KEQZLHzURt6erm-D7EFviA' # Rock\n",
    "]"
   ]
  },
  {
   "cell_type": "code",
   "execution_count": null,
   "metadata": {},
   "outputs": [],
   "source": [
    "# Master dataframe\n",
    "df_all_genres = pd.DataFrame()\n",
    "\n",
    "# Spotify limits audio features to 100 tracks\n",
    "# Call helper function from utils.py\n",
    "# Call each playlist separately and append to master\n",
    "for playlist_id in playlist_ids:\n",
    "    df = songs_and_features(auth, playlist_id)\n",
    "    df_all_genres = pd.concat([df_all_genres, df])\n",
    "\n",
    "# Reset index\n",
    "df_all_genres.reset_index(drop=True, inplace=True)"
   ]
  },
  {
   "source": [
    "## Feature Selection"
   ],
   "cell_type": "markdown",
   "metadata": {}
  },
  {
   "cell_type": "code",
   "execution_count": null,
   "metadata": {},
   "outputs": [],
   "source": [
    "# Alias for feature selection\n",
    "df_fs = df_all_genres.copy()\n",
    "\n",
    "# Make \"loudness\" feature positive\n",
    "# Needs to be global\n",
    "df_fs['loudness'] = df_fs.loudness.abs()\n",
    "\n",
    "def selkb(k):\n",
    "    ''' Helper function to test different values for K. '''\n",
    "\n",
    "    # Input: numeric features\n",
    "    X = df_fs.iloc[:, 4:]\n",
    "\n",
    "    # Prediction variable\n",
    "    y = df_fs['playlist_name']\n",
    "\n",
    "    # Select K best features\n",
    "    sel = sk.SelectKBest(sk.chi2, k=k).fit_transform(X, y)\n",
    "    df_sel = pd.DataFrame(sel)\n",
    "\n",
    "    return df_sel"
   ]
  },
  {
   "cell_type": "code",
   "execution_count": null,
   "metadata": {},
   "outputs": [],
   "source": [
    "def name_selected_features(k):\n",
    "    \"\"\" Helper function to convert values in selected features columns to float,\n",
    "    then name them by matching values to the original dataset. \"\"\"\n",
    "\n",
    "    # Get k-best features dataframe\n",
    "    df_sel = selkb(k)\n",
    "    \n",
    "    # Convert all numeric dtypes in df_fs to float to look for matching columns\n",
    "    df_fs_float = pd.DataFrame()\n",
    "    for col in df_fs.columns:\n",
    "        df_fs_float[col] = pd.to_numeric(df_fs[col], errors='ignore', downcast='float')\n",
    "\n",
    "    # Convert all numeric dtypes in df_sel to float to look for matching columns\n",
    "    df_sel_float = pd.DataFrame()\n",
    "    for col in df_sel.columns:\n",
    "        df_sel_float[col] = pd.to_numeric(df_sel[col], errors='ignore', downcast='float')\n",
    "\n",
    "    # Compare initial df to selected df to determine features\n",
    "    sel_cols = []\n",
    "    for i in df_sel_float.columns:\n",
    "        for j in df_fs_float.columns:\n",
    "            if df_fs_float[j].equals(df_sel_float[i]) == True:\n",
    "                sel_cols.append(j)\n",
    "\n",
    "    # Add names to columns\n",
    "    df_sel_float.columns = sel_cols\n",
    "\n",
    "    # Add playlist name\n",
    "    df_sel_float['playlist_name'] = df_fs['playlist_name']\n",
    "\n",
    "    return df_sel_float\n"
   ]
  },
  {
   "source": [
    "## Cluster Model"
   ],
   "cell_type": "markdown",
   "metadata": {}
  },
  {
   "cell_type": "code",
   "execution_count": null,
   "metadata": {},
   "outputs": [],
   "source": [
    "def cluster(data, k, scaler=StandardScaler(), init='k-means++', random_state=42):\n",
    "    ''' Helper function to scale and test different k values.'''\n",
    "\n",
    "    # Get only numeric fields\n",
    "    dataNum = data.select_dtypes(include='number')\n",
    "\n",
    "    # Select number of clusters\n",
    "    k = k\n",
    "\n",
    "    # Create a KMeans instance with k clusters\n",
    "    # Speed up convergence using k-means++ initialization\n",
    "    kmeans = KMeans(n_clusters=k, init=init, random_state=random_state)\n",
    "\n",
    "    # Scale the data and pass kmeans instance\n",
    "    pipeline = make_pipeline(scaler, kmeans)\n",
    "\n",
    "    # Fit pipeline to samples\n",
    "    pipeline.fit_transform(dataNum)\n",
    "\n",
    "    # Predict cluster labels\n",
    "    df_clusters = pipeline.predict(dataNum)\n",
    "\n",
    "    # Add column to identify the cluster\n",
    "    data.insert(loc=0, column='cluster', value=df_clusters)\n",
    "\n",
    "    return data, kmeans"
   ]
  },
  {
   "cell_type": "code",
   "execution_count": null,
   "metadata": {},
   "outputs": [],
   "source": [
    "# Get true labels for evaluation\n",
    "le = LabelEncoder()\n",
    "labels_true = le.fit_transform(df_all_genres['playlist_name'])\n",
    "\n",
    "# Number of clusters is equal to number of classes\n",
    "n_clusters = len(le.classes_)\n",
    "\n",
    "# Spotify has 15 audio features available\n",
    "n_features = 15"
   ]
  },
  {
   "cell_type": "code",
   "execution_count": null,
   "metadata": {},
   "outputs": [],
   "source": [
    "# Empty lists for appending\n",
    "ars_list = []\n",
    "scaler_list = []\n",
    "features_list = []\n",
    "\n",
    "# Dict of scaler names and objects for parameter tuning\n",
    "scaler_types = {('standard', StandardScaler()), \n",
    "                            ('minmax', MinMaxScaler()), \n",
    "                            ('normalizer', Normalizer())}\n",
    "\n",
    "# Tune parameters by varying scaler type and number of features\n",
    "for scaler in scaler_types:\n",
    "    for i in range(1, 15):\n",
    "\n",
    "        # Vary number of features (select k best)\n",
    "        df_sel = name_selected_features(i)\n",
    "\n",
    "        # KMeans output\n",
    "        df_cluster_results, kmeans = cluster(df_sel, n_clusters, scaler=scaler[1])\n",
    "\n",
    "        # Adjusted rand score since true labels are known\n",
    "        # 1 is perfect match, 0 or negative is poor\n",
    "        ars = adjusted_rand_score(labels_true, kmeans.labels_)\n",
    "        ars_list.append(round(ars, 3))\n",
    "\n",
    "        scaler_list.append(scaler[0])\n",
    "        features_list.append(i)\n"
   ]
  },
  {
   "cell_type": "code",
   "execution_count": null,
   "metadata": {},
   "outputs": [],
   "source": [
    "# Results as df for plotting and analysis\n",
    "df_ars = pd.DataFrame({'n_features':\n",
    "                                            features_list,\n",
    "                                            'scaler':\n",
    "                                            scaler_list,\n",
    "                                            'adjusted_rand_score':\n",
    "                                            ars_list})\n",
    "\n",
    "# Pivot: Get each scaler type in its own column for plotting\n",
    "df_ars_pivot = df_ars.pivot(index='n_features', columns='scaler', values='adjusted_rand_score')\n",
    "\n",
    "# Look for the max\n",
    "_ = df_ars_pivot.plot(xticks=[x for x in range(n_features)])\n",
    "plt.show()\n",
    "print(df_ars_pivot)"
   ]
  },
  {
   "source": [
    "## Conclusion\n",
    "\n",
    "In this scenario, the optimal scaler and number of features is the StandardScaler and 13 features, respectively. Because the optimal number of features is more than three, the output cannot be plotted. For the purpose of example, we can generate the following 3D plot using the best three features."
   ],
   "cell_type": "markdown",
   "metadata": {}
  },
  {
   "source": [
    "def plot(n_features, scaler):\n",
    "\n",
    "    # KMeans input with k-best features\n",
    "    df_sel = name_selected_features(n_features)\n",
    "\n",
    "    # Call cluster function on optimal parameters\n",
    "    data, kmeans = cluster(df_sel, k=n_clusters, scaler=scaler)\n",
    "\n",
    "    # Create figure, make axes 3D\n",
    "    fig = plt.figure()\n",
    "    ax = mplot3d.Axes3D(fig)\n",
    "\n",
    "    # Genre classify clusters\n",
    "    data['pred_genre'] = 'Pop'\n",
    "    data.loc[data['cluster'] == 1, ['pred_genre']] = 'Classical'\n",
    "    data.loc[data['cluster'] == 2, ['pred_genre']] = 'Rock'\n",
    "\n",
    "    # Plot each genre separately so they each get their own label\n",
    "    for genre in data['pred_genre'].drop_duplicates():\n",
    "        \n",
    "        # Filter on genre\n",
    "        df = data.loc[data['pred_genre'] == genre].copy()\n",
    "\n",
    "        # Assign the columns of samples: xs, ys and zs\n",
    "        xs = df.iloc[:,1] # First feature\n",
    "        ys = df.iloc[:,2] # Second feature\n",
    "        zs = df.iloc[:,3] # Third feature\n",
    "\n",
    "        # Plot 3D scatter\n",
    "        _ = ax.scatter3D(xs, ys, zs, label=genre, alpha=0.5)\n",
    "\n",
    "    # Label axes\n",
    "    ax.set_xlabel(df.columns[1])\n",
    "    ax.set_ylabel(df.columns[2])\n",
    "    ax.set_zlabel(df.columns[3])\n",
    "\n",
    "    # Title and legend\n",
    "    ax.legend()\n",
    "    ax.set_title('Genre Classification using Audio Features')\n",
    "\n",
    "    return data, plt\n",
    "\n",
    "df, plt = plot(3, StandardScaler())\n",
    "plt.show()"
   ],
   "cell_type": "code",
   "metadata": {},
   "execution_count": null,
   "outputs": []
  }
 ]
}